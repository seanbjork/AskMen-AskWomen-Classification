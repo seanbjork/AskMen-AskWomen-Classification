{
 "cells": [
  {
   "cell_type": "markdown",
   "metadata": {},
   "source": [
    "    The purpose of this notebook is to collect Reddit.com posts from two 'subreddits': AskWomen and AskMen."
   ]
  },
  {
   "cell_type": "code",
   "execution_count": 58,
   "metadata": {},
   "outputs": [],
   "source": [
    "import requests\n",
    "import json\n",
    "import time\n",
    "import pandas as pd"
   ]
  },
  {
   "cell_type": "code",
   "execution_count": 130,
   "metadata": {},
   "outputs": [
    {
     "name": "stdout",
     "output_type": "stream",
     "text": [
      "10.0%\n",
      "20.0%\n",
      "30.0%\n",
      "40.0%\n",
      "50.0%\n",
      "60.0%\n",
      "70.0%\n",
      "80.0%\n",
      "90.0%\n",
      "100.0%\n"
     ]
    }
   ],
   "source": [
    "w_posts = []\n",
    "after = None\n",
    "params={}\n",
    "for i in range(150):\n",
    "    url='https://www.reddit.com/r/AskWomen.json'\n",
    "    w_requests = requests.get(url, params=params, headers={'user-agent': 'seany boy'})\n",
    "    if w_requests.status_code == 200:\n",
    "        the_json = w_requests.json()\n",
    "        w_posts.extend(the_json['data']['children'])\n",
    "        after = the_json['data']['after']\n",
    "        params = {'after': the_json['data']['after']}\n",
    "    else:\n",
    "        print(w_requests.status_code)\n",
    "    if (i+1)%15 == 0:\n",
    "        print(f'{(i+1)/1.5}%')\n",
    "    else:\n",
    "        pass\n",
    "    time.sleep(1)\n",
    "    \n",
    "#This code was inspired by Riley Dallas' video titled \"Project 3 Info\""
   ]
  },
  {
   "cell_type": "code",
   "execution_count": 131,
   "metadata": {
    "scrolled": true
   },
   "outputs": [
    {
     "name": "stdout",
     "output_type": "stream",
     "text": [
      "10.0%\n",
      "20.0%\n",
      "30.0%\n",
      "40.0%\n",
      "50.0%\n",
      "60.0%\n",
      "70.0%\n",
      "80.0%\n",
      "90.0%\n",
      "100.0%\n"
     ]
    }
   ],
   "source": [
    "m_posts = []\n",
    "after = None\n",
    "params={}\n",
    "for i in range(150):\n",
    "    url='https://www.reddit.com/r/AskMen.json'\n",
    "    m_requests = requests.get(url, params=params, headers={'user-agent': 'seany boy'})\n",
    "    if m_requests.status_code == 200:\n",
    "        the_json = m_requests.json()\n",
    "        m_posts.extend(the_json['data']['children'])\n",
    "        after = the_json['data']['after']\n",
    "        params = {'after': the_json['data']['after']}\n",
    "    else:\n",
    "        print(m_requests.status_code)\n",
    "    if (i+1)%15 == 0:\n",
    "        print(f'{(i+1)/1.5}%')\n",
    "    else:\n",
    "        pass\n",
    "    time.sleep(1)\n",
    "    \n",
    "#This code was inspired by Riley Dallas' video titled \"Project 3 Info\""
   ]
  },
  {
   "cell_type": "code",
   "execution_count": 129,
   "metadata": {},
   "outputs": [
    {
     "name": "stdout",
     "output_type": "stream",
     "text": [
      "(657, 3)\n",
      "(516, 3)\n",
      "(1173, 3)\n"
     ]
    }
   ],
   "source": [
    "w_ids = list(set([w_posts[i]['data']['id'] for i in range(len(w_posts))]))\n",
    "w_list = []\n",
    "for i in range(len(w_posts)):\n",
    "    id_ = w_posts[i]['data']['id']\n",
    "    if id_ in w_ids:\n",
    "        w_dict = {}\n",
    "        w_dict['title'] = w_posts[i]['data']['title']\n",
    "        w_dict['text'] = w_posts[i]['data']['selftext']\n",
    "        w_dict['source'] = 'AskWomen'\n",
    "        w_list.append(w_dict)\n",
    "        w_ids.remove(id_)\n",
    "    else:\n",
    "        pass\n",
    "\n",
    "m_ids = list(set([m_posts[i]['data']['id'] for i in range(len(m_posts))]))\n",
    "m_list = []\n",
    "for i in range(len(m_posts)):\n",
    "    id_ = m_posts[i]['data']['id']\n",
    "    if id_ in m_ids:\n",
    "        m_dict = {}\n",
    "        m_dict['title'] = m_posts[i]['data']['title']\n",
    "        m_dict['text'] = m_posts[i]['data']['selftext']\n",
    "        m_dict['source'] = 'AskMen'\n",
    "        m_list.append(m_dict)\n",
    "        m_ids.remove(id_)\n",
    "    else:\n",
    "        pass\n",
    "\n",
    "w_df = pd.DataFrame(w_list)\n",
    "m_df = pd.DataFrame(m_list)\n",
    "print(w_df.shape)\n",
    "print(m_df.shape)\n",
    "\n",
    "both_df = pd.DataFrame(w_list + m_list)\n",
    "print(both_df.shape)\n",
    "\n",
    "# both_df.to_csv('../data/data.csv')"
   ]
  },
  {
   "cell_type": "markdown",
   "metadata": {},
   "source": [
    "    Bottom line commented out to avoid overwriting \"data\"."
   ]
  }
 ],
 "metadata": {
  "kernelspec": {
   "display_name": "Python 3",
   "language": "python",
   "name": "python3"
  },
  "language_info": {
   "codemirror_mode": {
    "name": "ipython",
    "version": 3
   },
   "file_extension": ".py",
   "mimetype": "text/x-python",
   "name": "python",
   "nbconvert_exporter": "python",
   "pygments_lexer": "ipython3",
   "version": "3.6.8"
  },
  "latex_envs": {
   "LaTeX_envs_menu_present": true,
   "autoclose": false,
   "autocomplete": true,
   "bibliofile": "biblio.bib",
   "cite_by": "apalike",
   "current_citInitial": 1,
   "eqLabelWithNumbers": true,
   "eqNumInitial": 1,
   "hotkeys": {
    "equation": "Ctrl-E",
    "itemize": "Ctrl-I"
   },
   "labels_anchors": false,
   "latex_user_defs": false,
   "report_style_numbering": false,
   "user_envs_cfg": false
  },
  "varInspector": {
   "cols": {
    "lenName": 16,
    "lenType": 16,
    "lenVar": 40
   },
   "kernels_config": {
    "python": {
     "delete_cmd_postfix": "",
     "delete_cmd_prefix": "del ",
     "library": "var_list.py",
     "varRefreshCmd": "print(var_dic_list())"
    },
    "r": {
     "delete_cmd_postfix": ") ",
     "delete_cmd_prefix": "rm(",
     "library": "var_list.r",
     "varRefreshCmd": "cat(var_dic_list()) "
    }
   },
   "types_to_exclude": [
    "module",
    "function",
    "builtin_function_or_method",
    "instance",
    "_Feature"
   ],
   "window_display": false
  }
 },
 "nbformat": 4,
 "nbformat_minor": 2
}
