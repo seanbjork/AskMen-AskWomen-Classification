{
 "cells": [
  {
   "cell_type": "markdown",
   "metadata": {},
   "source": [
    "    In this notebook, we create data frames with both CountVectorizer and TfidfVectorizer. We also explore the\n",
    "    words which appear in one subreddit and not the other, as well as words most correlated with the target."
   ]
  },
  {
   "cell_type": "code",
   "execution_count": 1,
   "metadata": {},
   "outputs": [],
   "source": [
    "import pandas as pd\n",
    "import numpy as np\n",
    "from sklearn.feature_extraction.text import CountVectorizer\n",
    "from sklearn.feature_extraction.text import TfidfVectorizer"
   ]
  },
  {
   "cell_type": "code",
   "execution_count": 2,
   "metadata": {},
   "outputs": [],
   "source": [
    "df = pd.read_csv('../data/clean_data.csv').drop(columns=['text', 'title'])"
   ]
  },
  {
   "cell_type": "code",
   "execution_count": 3,
   "metadata": {
    "scrolled": false
   },
   "outputs": [
    {
     "data": {
      "text/html": [
       "<div>\n",
       "<style scoped>\n",
       "    .dataframe tbody tr th:only-of-type {\n",
       "        vertical-align: middle;\n",
       "    }\n",
       "\n",
       "    .dataframe tbody tr th {\n",
       "        vertical-align: top;\n",
       "    }\n",
       "\n",
       "    .dataframe thead th {\n",
       "        text-align: right;\n",
       "    }\n",
       "</style>\n",
       "<table border=\"1\" class=\"dataframe\">\n",
       "  <thead>\n",
       "    <tr style=\"text-align: right;\">\n",
       "      <th></th>\n",
       "      <th>char_count</th>\n",
       "      <th>word_count</th>\n",
       "      <th>clean_titles</th>\n",
       "      <th>target</th>\n",
       "    </tr>\n",
       "  </thead>\n",
       "  <tbody>\n",
       "    <tr>\n",
       "      <th>0</th>\n",
       "      <td>64</td>\n",
       "      <td>10</td>\n",
       "      <td>the supplement rule mate free monday effect</td>\n",
       "      <td>1</td>\n",
       "    </tr>\n",
       "    <tr>\n",
       "      <th>1</th>\n",
       "      <td>117</td>\n",
       "      <td>21</td>\n",
       "      <td>what someth mother taught tip life hack etc li...</td>\n",
       "      <td>1</td>\n",
       "    </tr>\n",
       "    <tr>\n",
       "      <th>2</th>\n",
       "      <td>161</td>\n",
       "      <td>24</td>\n",
       "      <td>how consciou well groom peopl fingernail appea...</td>\n",
       "      <td>1</td>\n",
       "    </tr>\n",
       "    <tr>\n",
       "      <th>3</th>\n",
       "      <td>73</td>\n",
       "      <td>16</td>\n",
       "      <td>ladi love alon get use live sigoth</td>\n",
       "      <td>1</td>\n",
       "    </tr>\n",
       "    <tr>\n",
       "      <th>4</th>\n",
       "      <td>49</td>\n",
       "      <td>9</td>\n",
       "      <td>what rememb style wise</td>\n",
       "      <td>1</td>\n",
       "    </tr>\n",
       "  </tbody>\n",
       "</table>\n",
       "</div>"
      ],
      "text/plain": [
       "   char_count  word_count                                       clean_titles  \\\n",
       "0          64          10        the supplement rule mate free monday effect   \n",
       "1         117          21  what someth mother taught tip life hack etc li...   \n",
       "2         161          24  how consciou well groom peopl fingernail appea...   \n",
       "3          73          16                 ladi love alon get use live sigoth   \n",
       "4          49           9                             what rememb style wise   \n",
       "\n",
       "   target  \n",
       "0       1  \n",
       "1       1  \n",
       "2       1  \n",
       "3       1  \n",
       "4       1  "
      ]
     },
     "execution_count": 3,
     "metadata": {},
     "output_type": "execute_result"
    }
   ],
   "source": [
    "df.head()"
   ]
  },
  {
   "cell_type": "code",
   "execution_count": 4,
   "metadata": {},
   "outputs": [],
   "source": [
    "cvec = CountVectorizer(stop_words='english', min_df=3, max_df=1.0, ngram_range=(1,2))\n",
    "cvec_df = pd.SparseDataFrame(cvec.fit_transform(df['clean_titles']).toarray(),\n",
    "                           columns=cvec.get_feature_names()).join(df['target'])"
   ]
  },
  {
   "cell_type": "code",
   "execution_count": 5,
   "metadata": {},
   "outputs": [
    {
     "data": {
      "text/html": [
       "<div>\n",
       "<style scoped>\n",
       "    .dataframe tbody tr th:only-of-type {\n",
       "        vertical-align: middle;\n",
       "    }\n",
       "\n",
       "    .dataframe tbody tr th {\n",
       "        vertical-align: top;\n",
       "    }\n",
       "\n",
       "    .dataframe thead th {\n",
       "        text-align: right;\n",
       "    }\n",
       "</style>\n",
       "<table border=\"1\" class=\"dataframe\">\n",
       "  <thead>\n",
       "    <tr style=\"text-align: right;\">\n",
       "      <th></th>\n",
       "      <th>abus</th>\n",
       "      <th>accept</th>\n",
       "      <th>acknowledg</th>\n",
       "      <th>acn</th>\n",
       "      <th>action</th>\n",
       "      <th>activ</th>\n",
       "      <th>actual</th>\n",
       "      <th>admir</th>\n",
       "      <th>adult</th>\n",
       "      <th>advic</th>\n",
       "      <th>...</th>\n",
       "      <th>word</th>\n",
       "      <th>work</th>\n",
       "      <th>world</th>\n",
       "      <th>worst</th>\n",
       "      <th>worth</th>\n",
       "      <th>wrong</th>\n",
       "      <th>year</th>\n",
       "      <th>year old</th>\n",
       "      <th>young</th>\n",
       "      <th>target</th>\n",
       "    </tr>\n",
       "  </thead>\n",
       "  <tbody>\n",
       "    <tr>\n",
       "      <th>0</th>\n",
       "      <td>0</td>\n",
       "      <td>0</td>\n",
       "      <td>0</td>\n",
       "      <td>0</td>\n",
       "      <td>0</td>\n",
       "      <td>0</td>\n",
       "      <td>0</td>\n",
       "      <td>0</td>\n",
       "      <td>0</td>\n",
       "      <td>0</td>\n",
       "      <td>...</td>\n",
       "      <td>0</td>\n",
       "      <td>0</td>\n",
       "      <td>0</td>\n",
       "      <td>0</td>\n",
       "      <td>0</td>\n",
       "      <td>0</td>\n",
       "      <td>0</td>\n",
       "      <td>0</td>\n",
       "      <td>0</td>\n",
       "      <td>1</td>\n",
       "    </tr>\n",
       "    <tr>\n",
       "      <th>1</th>\n",
       "      <td>0</td>\n",
       "      <td>0</td>\n",
       "      <td>0</td>\n",
       "      <td>0</td>\n",
       "      <td>0</td>\n",
       "      <td>0</td>\n",
       "      <td>0</td>\n",
       "      <td>0</td>\n",
       "      <td>0</td>\n",
       "      <td>0</td>\n",
       "      <td>...</td>\n",
       "      <td>0</td>\n",
       "      <td>0</td>\n",
       "      <td>0</td>\n",
       "      <td>0</td>\n",
       "      <td>0</td>\n",
       "      <td>0</td>\n",
       "      <td>0</td>\n",
       "      <td>0</td>\n",
       "      <td>0</td>\n",
       "      <td>1</td>\n",
       "    </tr>\n",
       "    <tr>\n",
       "      <th>2</th>\n",
       "      <td>0</td>\n",
       "      <td>0</td>\n",
       "      <td>0</td>\n",
       "      <td>0</td>\n",
       "      <td>0</td>\n",
       "      <td>0</td>\n",
       "      <td>0</td>\n",
       "      <td>0</td>\n",
       "      <td>0</td>\n",
       "      <td>0</td>\n",
       "      <td>...</td>\n",
       "      <td>0</td>\n",
       "      <td>0</td>\n",
       "      <td>0</td>\n",
       "      <td>0</td>\n",
       "      <td>0</td>\n",
       "      <td>0</td>\n",
       "      <td>0</td>\n",
       "      <td>0</td>\n",
       "      <td>0</td>\n",
       "      <td>1</td>\n",
       "    </tr>\n",
       "    <tr>\n",
       "      <th>3</th>\n",
       "      <td>0</td>\n",
       "      <td>0</td>\n",
       "      <td>0</td>\n",
       "      <td>0</td>\n",
       "      <td>0</td>\n",
       "      <td>0</td>\n",
       "      <td>0</td>\n",
       "      <td>0</td>\n",
       "      <td>0</td>\n",
       "      <td>0</td>\n",
       "      <td>...</td>\n",
       "      <td>0</td>\n",
       "      <td>0</td>\n",
       "      <td>0</td>\n",
       "      <td>0</td>\n",
       "      <td>0</td>\n",
       "      <td>0</td>\n",
       "      <td>0</td>\n",
       "      <td>0</td>\n",
       "      <td>0</td>\n",
       "      <td>1</td>\n",
       "    </tr>\n",
       "    <tr>\n",
       "      <th>4</th>\n",
       "      <td>0</td>\n",
       "      <td>0</td>\n",
       "      <td>0</td>\n",
       "      <td>0</td>\n",
       "      <td>0</td>\n",
       "      <td>0</td>\n",
       "      <td>0</td>\n",
       "      <td>0</td>\n",
       "      <td>0</td>\n",
       "      <td>0</td>\n",
       "      <td>...</td>\n",
       "      <td>0</td>\n",
       "      <td>0</td>\n",
       "      <td>0</td>\n",
       "      <td>0</td>\n",
       "      <td>0</td>\n",
       "      <td>0</td>\n",
       "      <td>0</td>\n",
       "      <td>0</td>\n",
       "      <td>0</td>\n",
       "      <td>1</td>\n",
       "    </tr>\n",
       "  </tbody>\n",
       "</table>\n",
       "<p>5 rows × 605 columns</p>\n",
       "</div>"
      ],
      "text/plain": [
       "   abus  accept  acknowledg  acn  action  activ  actual  admir  adult  advic  \\\n",
       "0     0       0           0    0       0      0       0      0      0      0   \n",
       "1     0       0           0    0       0      0       0      0      0      0   \n",
       "2     0       0           0    0       0      0       0      0      0      0   \n",
       "3     0       0           0    0       0      0       0      0      0      0   \n",
       "4     0       0           0    0       0      0       0      0      0      0   \n",
       "\n",
       "   ...  word  work  world  worst  worth  wrong  year  year old  young  target  \n",
       "0  ...     0     0      0      0      0      0     0         0      0       1  \n",
       "1  ...     0     0      0      0      0      0     0         0      0       1  \n",
       "2  ...     0     0      0      0      0      0     0         0      0       1  \n",
       "3  ...     0     0      0      0      0      0     0         0      0       1  \n",
       "4  ...     0     0      0      0      0      0     0         0      0       1  \n",
       "\n",
       "[5 rows x 605 columns]"
      ]
     },
     "execution_count": 5,
     "metadata": {},
     "output_type": "execute_result"
    }
   ],
   "source": [
    "cvec_df.head()"
   ]
  },
  {
   "cell_type": "code",
   "execution_count": 6,
   "metadata": {},
   "outputs": [],
   "source": [
    "tfidf = TfidfVectorizer(stop_words='english', min_df=3, max_df=1.0, ngram_range=(1,2))\n",
    "tfidf_df = pd.SparseDataFrame(tfidf.fit_transform(df['clean_titles']).toarray(),\n",
    "                           columns=tfidf.get_feature_names()).join(df['target'])"
   ]
  },
  {
   "cell_type": "code",
   "execution_count": 7,
   "metadata": {},
   "outputs": [],
   "source": [
    "cvec_df.to_csv('../data/cvec_df.csv', index=False)\n",
    "tfidf_df.to_csv('../data/tfidf_df.csv', index=False)"
   ]
  },
  {
   "cell_type": "code",
   "execution_count": null,
   "metadata": {},
   "outputs": [],
   "source": []
  },
  {
   "cell_type": "code",
   "execution_count": 8,
   "metadata": {
    "scrolled": true
   },
   "outputs": [],
   "source": [
    "term_dict = {word : cvec_df[word].sum() for word in cvec_df.drop('target', axis=1).columns}\n",
    "\n",
    "tcdf = pd.DataFrame(term_dict, index = ['counts']).T"
   ]
  },
  {
   "cell_type": "code",
   "execution_count": null,
   "metadata": {},
   "outputs": [],
   "source": []
  },
  {
   "cell_type": "code",
   "execution_count": 9,
   "metadata": {},
   "outputs": [],
   "source": [
    "top_women = list(cvec_df.groupby('target').sum().T.sort_values(1, ascending=False).head(50).index)\n",
    "top_men = list(cvec_df.groupby('target').sum().T.sort_values(0, ascending=False).head(50).index)"
   ]
  },
  {
   "cell_type": "code",
   "execution_count": 10,
   "metadata": {},
   "outputs": [
    {
     "data": {
      "text/plain": [
       "['ladi',\n",
       " 'experi',\n",
       " 'thought',\n",
       " 'look',\n",
       " 'happen',\n",
       " 'realli',\n",
       " 'tip',\n",
       " 'women reddit',\n",
       " 'place',\n",
       " 'person',\n",
       " 'wear',\n",
       " 'consid',\n",
       " 'opinion']"
      ]
     },
     "execution_count": 10,
     "metadata": {},
     "output_type": "execute_result"
    }
   ],
   "source": [
    "women_only = [word for word in top_women if word not in top_men]\n",
    "women_only"
   ]
  },
  {
   "cell_type": "code",
   "execution_count": 11,
   "metadata": {},
   "outputs": [
    {
     "data": {
      "text/plain": [
       "['guy',\n",
       " 'men reddit',\n",
       " 'man',\n",
       " 'day',\n",
       " 'got',\n",
       " 'ask',\n",
       " 'hair',\n",
       " 'long',\n",
       " 'tell',\n",
       " 'male',\n",
       " 'help',\n",
       " 'attract',\n",
       " 'stop']"
      ]
     },
     "execution_count": 11,
     "metadata": {},
     "output_type": "execute_result"
    }
   ],
   "source": [
    "men_only = [word for word in top_men if word not in top_women]\n",
    "men_only"
   ]
  },
  {
   "cell_type": "code",
   "execution_count": 12,
   "metadata": {},
   "outputs": [
    {
     "data": {
      "text/plain": [
       "['men',\n",
       " 'reddit',\n",
       " 'thing',\n",
       " 'feel',\n",
       " 'like',\n",
       " 'date',\n",
       " 'someon',\n",
       " 'girl',\n",
       " 'relationship',\n",
       " 'want',\n",
       " 'make',\n",
       " 'think',\n",
       " 'best',\n",
       " 'friend',\n",
       " 'sigoth',\n",
       " 'way',\n",
       " 'women',\n",
       " 'life',\n",
       " 'whi',\n",
       " 'time',\n",
       " 'work',\n",
       " 'favorit',\n",
       " 'woman',\n",
       " 'peopl',\n",
       " 'someth',\n",
       " 'know',\n",
       " 'start',\n",
       " 'sex',\n",
       " 'good',\n",
       " 'deal',\n",
       " 'live',\n",
       " 'partner',\n",
       " 'chang',\n",
       " 'use',\n",
       " 'love',\n",
       " 'differ',\n",
       " 'age']"
      ]
     },
     "execution_count": 12,
     "metadata": {},
     "output_type": "execute_result"
    }
   ],
   "source": [
    "overlap = [word for word in top_men if word in top_women]\n",
    "overlap"
   ]
  },
  {
   "cell_type": "code",
   "execution_count": 13,
   "metadata": {
    "scrolled": true
   },
   "outputs": [
    {
     "data": {
      "text/html": [
       "<div>\n",
       "<style scoped>\n",
       "    .dataframe tbody tr th:only-of-type {\n",
       "        vertical-align: middle;\n",
       "    }\n",
       "\n",
       "    .dataframe tbody tr th {\n",
       "        vertical-align: top;\n",
       "    }\n",
       "\n",
       "    .dataframe thead th {\n",
       "        text-align: right;\n",
       "    }\n",
       "</style>\n",
       "<table border=\"1\" class=\"dataframe\">\n",
       "  <thead>\n",
       "    <tr style=\"text-align: right;\">\n",
       "      <th></th>\n",
       "      <th>target</th>\n",
       "    </tr>\n",
       "  </thead>\n",
       "  <tbody>\n",
       "    <tr>\n",
       "      <th>target</th>\n",
       "      <td>1.000000</td>\n",
       "    </tr>\n",
       "    <tr>\n",
       "      <th>women</th>\n",
       "      <td>0.135411</td>\n",
       "    </tr>\n",
       "    <tr>\n",
       "      <th>ladi</th>\n",
       "      <td>0.125862</td>\n",
       "    </tr>\n",
       "    <tr>\n",
       "      <th>women reddit</th>\n",
       "      <td>0.097677</td>\n",
       "    </tr>\n",
       "    <tr>\n",
       "      <th>bodi</th>\n",
       "      <td>0.078160</td>\n",
       "    </tr>\n",
       "    <tr>\n",
       "      <th>like</th>\n",
       "      <td>0.074538</td>\n",
       "    </tr>\n",
       "    <tr>\n",
       "      <th>thought</th>\n",
       "      <td>0.074224</td>\n",
       "    </tr>\n",
       "    <tr>\n",
       "      <th>experienc</th>\n",
       "      <td>0.068876</td>\n",
       "    </tr>\n",
       "    <tr>\n",
       "      <th>consid</th>\n",
       "      <td>0.067408</td>\n",
       "    </tr>\n",
       "    <tr>\n",
       "      <th>parent</th>\n",
       "      <td>0.064542</td>\n",
       "    </tr>\n",
       "  </tbody>\n",
       "</table>\n",
       "</div>"
      ],
      "text/plain": [
       "                target\n",
       "target        1.000000\n",
       "women         0.135411\n",
       "ladi          0.125862\n",
       "women reddit  0.097677\n",
       "bodi          0.078160\n",
       "like          0.074538\n",
       "thought       0.074224\n",
       "experienc     0.068876\n",
       "consid        0.067408\n",
       "parent        0.064542"
      ]
     },
     "execution_count": 13,
     "metadata": {},
     "output_type": "execute_result"
    }
   ],
   "source": [
    "cvec_df.corr()[['target']].sort_values('target', ascending=False).head(10)"
   ]
  },
  {
   "cell_type": "code",
   "execution_count": 14,
   "metadata": {},
   "outputs": [
    {
     "data": {
      "text/html": [
       "<div>\n",
       "<style scoped>\n",
       "    .dataframe tbody tr th:only-of-type {\n",
       "        vertical-align: middle;\n",
       "    }\n",
       "\n",
       "    .dataframe tbody tr th {\n",
       "        vertical-align: top;\n",
       "    }\n",
       "\n",
       "    .dataframe thead th {\n",
       "        text-align: right;\n",
       "    }\n",
       "</style>\n",
       "<table border=\"1\" class=\"dataframe\">\n",
       "  <thead>\n",
       "    <tr style=\"text-align: right;\">\n",
       "      <th></th>\n",
       "      <th>target</th>\n",
       "    </tr>\n",
       "  </thead>\n",
       "  <tbody>\n",
       "    <tr>\n",
       "      <th>men</th>\n",
       "      <td>-0.241019</td>\n",
       "    </tr>\n",
       "    <tr>\n",
       "      <th>men reddit</th>\n",
       "      <td>-0.192544</td>\n",
       "    </tr>\n",
       "    <tr>\n",
       "      <th>guy</th>\n",
       "      <td>-0.177014</td>\n",
       "    </tr>\n",
       "    <tr>\n",
       "      <th>reddit</th>\n",
       "      <td>-0.109962</td>\n",
       "    </tr>\n",
       "    <tr>\n",
       "      <th>fuck</th>\n",
       "      <td>-0.086127</td>\n",
       "    </tr>\n",
       "    <tr>\n",
       "      <th>wife</th>\n",
       "      <td>-0.086127</td>\n",
       "    </tr>\n",
       "    <tr>\n",
       "      <th>want</th>\n",
       "      <td>-0.082354</td>\n",
       "    </tr>\n",
       "    <tr>\n",
       "      <th>pick</th>\n",
       "      <td>-0.080532</td>\n",
       "    </tr>\n",
       "    <tr>\n",
       "      <th>girlfriend</th>\n",
       "      <td>-0.078490</td>\n",
       "    </tr>\n",
       "    <tr>\n",
       "      <th>beard</th>\n",
       "      <td>-0.074529</td>\n",
       "    </tr>\n",
       "  </tbody>\n",
       "</table>\n",
       "</div>"
      ],
      "text/plain": [
       "              target\n",
       "men        -0.241019\n",
       "men reddit -0.192544\n",
       "guy        -0.177014\n",
       "reddit     -0.109962\n",
       "fuck       -0.086127\n",
       "wife       -0.086127\n",
       "want       -0.082354\n",
       "pick       -0.080532\n",
       "girlfriend -0.078490\n",
       "beard      -0.074529"
      ]
     },
     "execution_count": 14,
     "metadata": {},
     "output_type": "execute_result"
    }
   ],
   "source": [
    "cvec_df.corr()[['target']].sort_values('target', ascending=True).head(10)"
   ]
  },
  {
   "cell_type": "code",
   "execution_count": null,
   "metadata": {},
   "outputs": [],
   "source": []
  },
  {
   "cell_type": "code",
   "execution_count": 15,
   "metadata": {},
   "outputs": [],
   "source": [
    "top_women = list(tfidf_df.groupby('target').sum().T.sort_values(1, ascending=False).head(50).index)\n",
    "top_men = list(tfidf_df.groupby('target').sum().T.sort_values(0, ascending=False).head(50).index)"
   ]
  },
  {
   "cell_type": "code",
   "execution_count": 16,
   "metadata": {},
   "outputs": [
    {
     "data": {
      "text/plain": [
       "['ladi',\n",
       " 'thought',\n",
       " 'experi',\n",
       " 'tip',\n",
       " 'happen',\n",
       " 'look',\n",
       " 'opinion',\n",
       " 'realli',\n",
       " 'person',\n",
       " 'differ',\n",
       " 'women reddit',\n",
       " 'place',\n",
       " 'friendship',\n",
       " 'turn',\n",
       " 'bodi',\n",
       " 'age',\n",
       " 'mani']"
      ]
     },
     "execution_count": 16,
     "metadata": {},
     "output_type": "execute_result"
    }
   ],
   "source": [
    "women_only = [word for word in top_women if word not in top_men]\n",
    "women_only"
   ]
  },
  {
   "cell_type": "code",
   "execution_count": 17,
   "metadata": {},
   "outputs": [
    {
     "data": {
      "text/plain": [
       "['guy',\n",
       " 'men reddit',\n",
       " 'man',\n",
       " 'deal',\n",
       " 'day',\n",
       " 'sex',\n",
       " 'live',\n",
       " 'ask',\n",
       " 'got',\n",
       " 'hair',\n",
       " 'stop',\n",
       " 'fight',\n",
       " 'help',\n",
       " 'tell',\n",
       " 'attract',\n",
       " 'girlfriend',\n",
       " 'activ']"
      ]
     },
     "execution_count": 17,
     "metadata": {},
     "output_type": "execute_result"
    }
   ],
   "source": [
    "men_only = [word for word in top_men if word not in top_women]\n",
    "men_only"
   ]
  },
  {
   "cell_type": "code",
   "execution_count": 18,
   "metadata": {
    "scrolled": true
   },
   "outputs": [
    {
     "data": {
      "text/plain": [
       "['men',\n",
       " 'reddit',\n",
       " 'thing',\n",
       " 'like',\n",
       " 'feel',\n",
       " 'girl',\n",
       " 'date',\n",
       " 'best',\n",
       " 'make',\n",
       " 'favorit',\n",
       " 'want',\n",
       " 'someon',\n",
       " 'relationship',\n",
       " 'friend',\n",
       " 'sigoth',\n",
       " 'think',\n",
       " 'women',\n",
       " 'way',\n",
       " 'life',\n",
       " 'whi',\n",
       " 'time',\n",
       " 'work',\n",
       " 'woman',\n",
       " 'peopl',\n",
       " 'start',\n",
       " 'good',\n",
       " 'use',\n",
       " 'someth',\n",
       " 'love',\n",
       " 'know',\n",
       " 'wear',\n",
       " 'chang',\n",
       " 'partner']"
      ]
     },
     "execution_count": 18,
     "metadata": {},
     "output_type": "execute_result"
    }
   ],
   "source": [
    "overlap = [word for word in top_men if word in top_women]\n",
    "overlap"
   ]
  },
  {
   "cell_type": "code",
   "execution_count": 19,
   "metadata": {
    "scrolled": true
   },
   "outputs": [
    {
     "data": {
      "text/html": [
       "<div>\n",
       "<style scoped>\n",
       "    .dataframe tbody tr th:only-of-type {\n",
       "        vertical-align: middle;\n",
       "    }\n",
       "\n",
       "    .dataframe tbody tr th {\n",
       "        vertical-align: top;\n",
       "    }\n",
       "\n",
       "    .dataframe thead th {\n",
       "        text-align: right;\n",
       "    }\n",
       "</style>\n",
       "<table border=\"1\" class=\"dataframe\">\n",
       "  <thead>\n",
       "    <tr style=\"text-align: right;\">\n",
       "      <th></th>\n",
       "      <th>target</th>\n",
       "    </tr>\n",
       "  </thead>\n",
       "  <tbody>\n",
       "    <tr>\n",
       "      <th>target</th>\n",
       "      <td>1.000000</td>\n",
       "    </tr>\n",
       "    <tr>\n",
       "      <th>ladi</th>\n",
       "      <td>0.122767</td>\n",
       "    </tr>\n",
       "    <tr>\n",
       "      <th>women</th>\n",
       "      <td>0.108697</td>\n",
       "    </tr>\n",
       "    <tr>\n",
       "      <th>women reddit</th>\n",
       "      <td>0.094636</td>\n",
       "    </tr>\n",
       "    <tr>\n",
       "      <th>thought</th>\n",
       "      <td>0.076447</td>\n",
       "    </tr>\n",
       "    <tr>\n",
       "      <th>bodi</th>\n",
       "      <td>0.076123</td>\n",
       "    </tr>\n",
       "    <tr>\n",
       "      <th>tip</th>\n",
       "      <td>0.073555</td>\n",
       "    </tr>\n",
       "    <tr>\n",
       "      <th>experienc</th>\n",
       "      <td>0.067788</td>\n",
       "    </tr>\n",
       "    <tr>\n",
       "      <th>experi like</th>\n",
       "      <td>0.061753</td>\n",
       "    </tr>\n",
       "    <tr>\n",
       "      <th>high</th>\n",
       "      <td>0.060795</td>\n",
       "    </tr>\n",
       "  </tbody>\n",
       "</table>\n",
       "</div>"
      ],
      "text/plain": [
       "                target\n",
       "target        1.000000\n",
       "ladi          0.122767\n",
       "women         0.108697\n",
       "women reddit  0.094636\n",
       "thought       0.076447\n",
       "bodi          0.076123\n",
       "tip           0.073555\n",
       "experienc     0.067788\n",
       "experi like   0.061753\n",
       "high          0.060795"
      ]
     },
     "execution_count": 19,
     "metadata": {},
     "output_type": "execute_result"
    }
   ],
   "source": [
    "tfidf_df.corr()[['target']].sort_values('target', ascending=False).head(10)"
   ]
  },
  {
   "cell_type": "code",
   "execution_count": 20,
   "metadata": {},
   "outputs": [
    {
     "data": {
      "text/html": [
       "<div>\n",
       "<style scoped>\n",
       "    .dataframe tbody tr th:only-of-type {\n",
       "        vertical-align: middle;\n",
       "    }\n",
       "\n",
       "    .dataframe tbody tr th {\n",
       "        vertical-align: top;\n",
       "    }\n",
       "\n",
       "    .dataframe thead th {\n",
       "        text-align: right;\n",
       "    }\n",
       "</style>\n",
       "<table border=\"1\" class=\"dataframe\">\n",
       "  <thead>\n",
       "    <tr style=\"text-align: right;\">\n",
       "      <th></th>\n",
       "      <th>target</th>\n",
       "    </tr>\n",
       "  </thead>\n",
       "  <tbody>\n",
       "    <tr>\n",
       "      <th>men</th>\n",
       "      <td>-0.221103</td>\n",
       "    </tr>\n",
       "    <tr>\n",
       "      <th>men reddit</th>\n",
       "      <td>-0.188517</td>\n",
       "    </tr>\n",
       "    <tr>\n",
       "      <th>guy</th>\n",
       "      <td>-0.172816</td>\n",
       "    </tr>\n",
       "    <tr>\n",
       "      <th>reddit</th>\n",
       "      <td>-0.099254</td>\n",
       "    </tr>\n",
       "    <tr>\n",
       "      <th>wife</th>\n",
       "      <td>-0.085281</td>\n",
       "    </tr>\n",
       "    <tr>\n",
       "      <th>girl</th>\n",
       "      <td>-0.081764</td>\n",
       "    </tr>\n",
       "    <tr>\n",
       "      <th>fuck</th>\n",
       "      <td>-0.081530</td>\n",
       "    </tr>\n",
       "    <tr>\n",
       "      <th>girlfriend</th>\n",
       "      <td>-0.080130</td>\n",
       "    </tr>\n",
       "    <tr>\n",
       "      <th>pick</th>\n",
       "      <td>-0.078846</td>\n",
       "    </tr>\n",
       "    <tr>\n",
       "      <th>nsfw</th>\n",
       "      <td>-0.074066</td>\n",
       "    </tr>\n",
       "  </tbody>\n",
       "</table>\n",
       "</div>"
      ],
      "text/plain": [
       "              target\n",
       "men        -0.221103\n",
       "men reddit -0.188517\n",
       "guy        -0.172816\n",
       "reddit     -0.099254\n",
       "wife       -0.085281\n",
       "girl       -0.081764\n",
       "fuck       -0.081530\n",
       "girlfriend -0.080130\n",
       "pick       -0.078846\n",
       "nsfw       -0.074066"
      ]
     },
     "execution_count": 20,
     "metadata": {},
     "output_type": "execute_result"
    }
   ],
   "source": [
    "tfidf_df.corr()[['target']].sort_values('target', ascending=True).head(10)"
   ]
  },
  {
   "cell_type": "code",
   "execution_count": null,
   "metadata": {},
   "outputs": [],
   "source": []
  }
 ],
 "metadata": {
  "kernelspec": {
   "display_name": "Python 3",
   "language": "python",
   "name": "python3"
  },
  "language_info": {
   "codemirror_mode": {
    "name": "ipython",
    "version": 3
   },
   "file_extension": ".py",
   "mimetype": "text/x-python",
   "name": "python",
   "nbconvert_exporter": "python",
   "pygments_lexer": "ipython3",
   "version": "3.6.8"
  },
  "latex_envs": {
   "LaTeX_envs_menu_present": true,
   "autoclose": false,
   "autocomplete": true,
   "bibliofile": "biblio.bib",
   "cite_by": "apalike",
   "current_citInitial": 1,
   "eqLabelWithNumbers": true,
   "eqNumInitial": 1,
   "hotkeys": {
    "equation": "Ctrl-E",
    "itemize": "Ctrl-I"
   },
   "labels_anchors": false,
   "latex_user_defs": false,
   "report_style_numbering": false,
   "user_envs_cfg": false
  },
  "varInspector": {
   "cols": {
    "lenName": 16,
    "lenType": 16,
    "lenVar": 40
   },
   "kernels_config": {
    "python": {
     "delete_cmd_postfix": "",
     "delete_cmd_prefix": "del ",
     "library": "var_list.py",
     "varRefreshCmd": "print(var_dic_list())"
    },
    "r": {
     "delete_cmd_postfix": ") ",
     "delete_cmd_prefix": "rm(",
     "library": "var_list.r",
     "varRefreshCmd": "cat(var_dic_list()) "
    }
   },
   "types_to_exclude": [
    "module",
    "function",
    "builtin_function_or_method",
    "instance",
    "_Feature"
   ],
   "window_display": false
  }
 },
 "nbformat": 4,
 "nbformat_minor": 2
}
